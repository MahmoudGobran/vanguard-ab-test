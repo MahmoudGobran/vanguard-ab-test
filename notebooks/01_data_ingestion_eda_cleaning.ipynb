{
 "cells": [
  {
   "cell_type": "code",
   "execution_count": 1,
   "id": "aac68dea",
   "metadata": {},
   "outputs": [
    {
     "name": "stdout",
     "output_type": "stream",
     "text": [
      "All datasets loaded successfully!\n"
     ]
    }
   ],
   "source": [
    "import os\n",
    "import pandas as pd\n",
    "import numpy as np\n",
    "import matplotlib.pyplot as plt\n",
    "import seaborn as sns\n",
    "from scipy import stats\n",
    "from statsmodels.stats.proportion import proportions_ztest, confint_proportions_2indep\n",
    "\n",
    "# Set display options for better viewing\n",
    "pd.set_option('display.max_columns', None)\n",
    "pd.set_option('display.width', 1000)\n",
    "\n",
    "# Define data path using raw string or double backslashes\n",
    "data_path = r'C:\\Users\\Mahmoud Gobran\\00_Ironhack\\Projects\\vanguard-ab-test\\data\\raw'\n",
    "\n",
    "# File names\n",
    "files = {\n",
    "    'demo': 'df_final_demo.csv',\n",
    "    'web_pt_1': 'df_final_web_data_pt_1.csv',\n",
    "    'web_pt_2': 'df_final_web_data_pt_2.csv',\n",
    "    'experiment': 'df_final_experiment_clients.csv'\n",
    "}\n",
    "\n",
    "# Try loading the datasets\n",
    "try:\n",
    "    df_final_demo = pd.read_csv(os.path.join(data_path, files['demo']))\n",
    "    df_final_web_data_pt_1 = pd.read_csv(os.path.join(data_path, files['web_pt_1']))\n",
    "    df_final_web_data_pt_2 = pd.read_csv(os.path.join(data_path, files['web_pt_2']))\n",
    "    df_final_experiment_clients = pd.read_csv(os.path.join(data_path, files['experiment']))\n",
    "    print(\"All datasets loaded successfully!\")\n",
    "\n",
    "except FileNotFoundError as e:\n",
    "    print(f\"Error loading file: {e}\")\n",
    "    exit()\n",
    "\n",
    "# Merge web data\n",
    "#df_final_web_data = pd.concat([df_final_web_data_pt_1, df_final_web_data_pt_2], ignore_index=True)\n",
    "#print(\"\\nWeb data parts merged.\")"
   ]
  }
 ],
 "metadata": {
  "kernelspec": {
   "display_name": "base",
   "language": "python",
   "name": "python3"
  },
  "language_info": {
   "codemirror_mode": {
    "name": "ipython",
    "version": 3
   },
   "file_extension": ".py",
   "mimetype": "text/x-python",
   "name": "python",
   "nbconvert_exporter": "python",
   "pygments_lexer": "ipython3",
   "version": "3.12.4"
  }
 },
 "nbformat": 4,
 "nbformat_minor": 5
}
